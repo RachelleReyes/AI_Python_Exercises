{
 "cells": [
  {
   "cell_type": "markdown",
   "metadata": {},
   "source": [
    "# Practica 2"
   ]
  },
  {
   "cell_type": "markdown",
   "metadata": {},
   "source": [
    "# Ejercicio 2"
   ]
  },
  {
   "cell_type": "code",
   "execution_count": 18,
   "metadata": {
    "scrolled": true
   },
   "outputs": [
    {
     "name": "stdout",
     "output_type": "stream",
     "text": [
      "Ingrese los coeficientes\n",
      "a: 0\n",
      "b: 1\n",
      "c: 2\n",
      "Raíces indeterminadas\n"
     ]
    }
   ],
   "source": [
    "%matplotlib inline\n",
    "\n",
    "import matplotlib\n",
    "import matplotlib.pyplot as plt\n",
    "import numpy as np\n",
    "\n",
    "# Entrada de los valores a,b,c\n",
    "print(\"Ingrese los coeficientes\")\n",
    "a = float(input(\"a: \"))\n",
    "b = float(input(\"b: \"))\n",
    "c = float(input(\"c: \"))\n",
    "\n",
    "# Función que recibe valores de \"x\" y \"y\" para ser graficados\n",
    "def mostrarCoordenada(x,y):\n",
    "    ax.scatter(x,y,s=50,marker=\"o\",c = 'red')\n",
    "    texto = \"(\" + str(x) + \",\" + str(y) + \")\"\n",
    "    ax.annotate(texto, xy=(x,y))\n",
    "\n",
    "# Cálculo de la raíz para la comprobación\n",
    "raiz = (b**2)-4*a*c\n",
    "if raiz>=0 and a!=0:\n",
    "    \n",
    "    x1 = (-b + np.sqrt((b**2)-4*a*c))/(2*a)\n",
    "    x2 = (-b - np.sqrt((b**2)-4*a*c))/(2*a)\n",
    "    \n",
    "    print('\\nx1: ' + str(x1))\n",
    "    print('x2: ' + str(x2))\n",
    "    \n",
    "    # Sustiución para calcular valores más exactos\n",
    "    y1 = a*(x1**2) + b*x1 + c\n",
    "    y2 = a*(x2**2) + b*x2 + c\n",
    "    \n",
    "    if x1<= x2:\n",
    "        min = x1\n",
    "        max = x2\n",
    "    else: \n",
    "        max = x2\n",
    "        min = x1\n",
    "    \n",
    "    fig,ax = plt.subplots()\n",
    "    \n",
    "    # Mostrar coordenadas de resultados\n",
    "    mostrarCoordenada(x1,y1)\n",
    "    mostrarCoordenada(x2,y2)\n",
    "        \n",
    "    # Valores de x para graficar fórmula general\n",
    "    x = np.linspace(min-20, max+20, num=200)\n",
    "\n",
    "    # Funciones para graficar \n",
    "    \n",
    "    ax.plot(x,a*(x**2) + b*x + c,color = 'lightblue')\n",
    "    ax.set(xlabel ='x',ylabel = 'f(x)',title = 'Fórmula general')\n",
    "    ax.grid()\n",
    "    fig.savefig(\"ejercicio2.png\")\n",
    "    plt.show()\n",
    "    \n",
    "else:  # Caso con raíces indeterminadas\n",
    "    print('Raíces indeterminadas')\n",
    "    "
   ]
  },
  {
   "cell_type": "code",
   "execution_count": null,
   "metadata": {},
   "outputs": [],
   "source": []
  },
  {
   "cell_type": "code",
   "execution_count": null,
   "metadata": {},
   "outputs": [],
   "source": []
  }
 ],
 "metadata": {
  "kernelspec": {
   "display_name": "Python 3",
   "language": "python",
   "name": "python3"
  },
  "language_info": {
   "codemirror_mode": {
    "name": "ipython",
    "version": 3
   },
   "file_extension": ".py",
   "mimetype": "text/x-python",
   "name": "python",
   "nbconvert_exporter": "python",
   "pygments_lexer": "ipython3",
   "version": "3.7.1"
  }
 },
 "nbformat": 4,
 "nbformat_minor": 2
}
