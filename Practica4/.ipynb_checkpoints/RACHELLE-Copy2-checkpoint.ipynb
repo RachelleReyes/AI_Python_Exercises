{
 "cells": [
  {
   "cell_type": "code",
   "execution_count": 3,
   "metadata": {},
   "outputs": [],
   "source": [
    "import numpy as np\n",
    "import matplotlib.pyplot as plt"
   ]
  },
  {
   "cell_type": "code",
   "execution_count": 11,
   "metadata": {},
   "outputs": [],
   "source": [
    "class LogisticRegressionGD():\n",
    "    def __init__(self, max_iter=1000, eta=0.5, max_error=0.1):\n",
    "        self.w = 0\n",
    "        self.max_iter = max_iter\n",
    "        self.eta = eta\n",
    "        self.max_error = max_error\n",
    "    \n",
    "    def sigmoide(self,x):\n",
    "        return 1.0 / (1 + np.exp(-x))\n",
    "    \n",
    "    def h(self,x,w):\n",
    "        return self.sigmoide(np.matmul(x,w))\n",
    "    \n",
    "    def cost(self, x, y, w):\n",
    "        m = x.shape[0]\n",
    "        h = self.sigmoide(np.matmul(x, w))\n",
    "        cost = (np.matmul(-y.T, np.log(h)) - np.matmul((1 -y.T), np.log(1 - h)))/m\n",
    "        return cost\n",
    "    \n",
    "    def gradient_Descent(self,w, alpha, x , y):\n",
    "        m = x.shape[0]\n",
    "        h = self.sigmoide(np.matmul(x, w))\n",
    "        grad = np.matmul(X.T, (h-y)) / m;\n",
    "        w = w - alpha * grad\n",
    "        return w\n",
    "    \n",
    "    def fit(self, X, X2,Y,w):\n",
    "        self.x = X\n",
    "        self.y = Y\n",
    "        for i in range(self.max_iter):\n",
    "            w = self.gradient_Descent(w, self.eta, X, Y)\n",
    "            error = self.cost(X,Y,w)\n",
    "            if error <= self.max_error:\n",
    "                break\n",
    "        graficar(X,X2,Y,w)\n",
    "\n",
    "def graficar(X,X2,Y,W):\n",
    "    plt.figure()\n",
    "    plt.title('GD Logistic Regresion')\n",
    "    plt.plot(X2,Y, '.', label='Target')\n",
    "    plt.plot(X2,modelgd.h(X,W),'--', label='Modelo')\n",
    "    plt.xlabel('X')\n",
    "    plt.ylabel('Y')\n",
    "    plt.legend(bbox_to_anchor=(1.05, 1), loc=1, borderaxespad=0.)\n",
    "    plt.show()\n"
   ]
  },
  {
   "cell_type": "code",
   "execution_count": 12,
   "metadata": {},
   "outputs": [
    {
     "data": {
      "image/png": "[encoded data removed]",
      "text/plain": [
       "<Figure size 432x288 with 1 Axes>"
      ]
     },
     "metadata": {
      "needs_background": "light"
     },
     "output_type": "display_data"
    }
   ],
   "source": [
    "X = np.array([[.5],[.75],[1],[1.25],[1.5],[1.75],[1.75],[2],[2.25],[2.5],[2.75],[3],[3.25],[3.50],[4],[4.25],[4.5],[4.75],[5],[5.5]])\n",
    "ones = np.ones(X.shape)\n",
    "X = np.hstack([ones,X])\n",
    "\n",
    "X2 = np.array([.5,.75,1,1.25,1.5,1.75,1.75,2,2.25,2.5,2.75,3,3.25,3.50,4,4.25,4.5,4.75,5,5.5])\n",
    "\n",
    "Y = np.array([0,0,0,0,0,0,1,0,1,0,1,0,1,0,1,1,1,1,1,1]).reshape([-1,1])\n",
    "\n",
    "w = np.array([[0],[0]])\n",
    "modelgd = LogisticRegressionGD()\n",
    "modelgd.fit(X,X2,Y,w)\n"
   ]
  },
  {
   "cell_type": "code",
   "execution_count": null,
   "metadata": {},
   "outputs": [],
   "source": []
  }
 ],
 "metadata": {
  "kernelspec": {
   "display_name": "Python 3",
   "language": "python",
   "name": "python3"
  },
  "language_info": {
   "codemirror_mode": {
    "name": "ipython",
    "version": 3
   },
   "file_extension": ".py",
   "mimetype": "text/x-python",
   "name": "python",
   "nbconvert_exporter": "python",
   "pygments_lexer": "ipython3",
   "version": "3.7.1"
  }
 },
 "nbformat": 4,
 "nbformat_minor": 2
}
