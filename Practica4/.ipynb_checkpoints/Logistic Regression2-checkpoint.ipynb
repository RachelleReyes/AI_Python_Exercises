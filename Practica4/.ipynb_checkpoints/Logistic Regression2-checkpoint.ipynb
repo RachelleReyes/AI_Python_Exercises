{
 "cells": [
  {
   "cell_type": "code",
   "execution_count": 188,
   "metadata": {},
   "outputs": [],
   "source": [
    "from sklearn import svm\n",
    "from matplotlib import pylab\n",
    "import numpy as np\n",
    "import matplotlib.pyplot as plt\n",
    "import pylab as plab"
   ]
  },
  {
   "cell_type": "markdown",
   "metadata": {},
   "source": [
    "# Regresión Logística"
   ]
  },
  {
   "cell_type": "markdown",
   "metadata": {},
   "source": [
    "# Aprendizaje por Gradiente Descendiente"
   ]
  },
  {
   "cell_type": "code",
   "execution_count": 203,
   "metadata": {},
   "outputs": [],
   "source": [
    "# Definicion de la hipotesis/funcion del sigmoide\n",
    "def sigmoide(x, w):\n",
    "    z = np.dot(x, w[1:]) + w[0]\n",
    "    return 1.0 /(1.0 + np.exp(-z))\n",
    "\n",
    "# Definicion de la funcion del coste\n",
    "def lrFuncionCoste(y, hx):\n",
    "    return -y.dot(np.log(hx)) - ((1-y).dot(np.log(1-hx)))\n",
    "    \n",
    "class LogisticRegressionGD():\n",
    "    def __init__(self, max_iter=1000, lr=0.0001, max_error=0.1):\n",
    "        self.w = 0\n",
    "        self.max_iter = max_iter\n",
    "        self.lr = lr\n",
    "        self.max_error = max_error\n",
    "    \n",
    "    # Funcion Gradiente Descendente\n",
    "    def fit(self, x, y):\n",
    "        w = np.zeros(1+n)\n",
    "        coste = []\n",
    "        for i in range(len(x)):\n",
    "            hx = sigmoide(x, w)   # Funcion sigmoide\n",
    "            error = hx - y           # Calculo del error\n",
    "            grad = x.T.dot(error)    # Calcular gradiente\n",
    "            # Actualizar valores de w\n",
    "            w[0] = w[0] - self.lr * error.sum()\n",
    "            w[1:] = w[1:] - self.lr * grad\n",
    "            coste.append(lrFuncionCoste(y, hx))\n",
    "        return coste    "
   ]
  },
  {
   "cell_type": "code",
   "execution_count": 204,
   "metadata": {},
   "outputs": [
    {
     "name": "stdout",
     "output_type": "stream",
     "text": [
      "[array([0.69314718, 0.69314718, 0.69314718, 0.69314718, 0.69314718,\n",
      "       0.69314718, 0.69314718, 0.69314718, 0.69314718, 0.69314718,\n",
      "       0.69314718, 0.69314718, 0.69314718, 0.69314718, 0.69314718,\n",
      "       0.69314718, 0.69314718, 0.69314718, 0.69314718, 0.69314718]), array([0.72176885, 0.72176885, 0.72176885, 0.72176885, 0.72176885,\n",
      "       0.72176885, 0.66532197, 0.72176885, 0.66532197, 0.72176885,\n",
      "       0.66532197, 0.72176885, 0.66532197, 0.72176885, 0.66532197,\n",
      "       0.66532197, 0.66532197, 0.66532197, 0.66532197, 0.66532197]), array([0.74885781, 0.74885781, 0.74885781, 0.74885781, 0.74885781,\n",
      "       0.74885781, 0.64037712, 0.74885781, 0.64037712, 0.74885781,\n",
      "       0.64037712, 0.74885781, 0.64037712, 0.74885781, 0.64037712,\n",
      "       0.64037712, 0.64037712, 0.64037712, 0.64037712, 0.64037712]), array([0.77443   , 0.77443   , 0.77443   , 0.77443   , 0.77443   ,\n",
      "       0.77443   , 0.61797748, 0.77443   , 0.61797748, 0.77443   ,\n",
      "       0.61797748, 0.77443   , 0.61797748, 0.77443   , 0.61797748,\n",
      "       0.61797748, 0.61797748, 0.61797748, 0.61797748, 0.61797748]), array([0.79851801, 0.79851801, 0.79851801, 0.79851801, 0.79851801,\n",
      "       0.79851801, 0.59782856, 0.79851801, 0.59782856, 0.79851801,\n",
      "       0.59782856, 0.79851801, 0.59782856, 0.79851801, 0.59782856,\n",
      "       0.59782856, 0.59782856, 0.59782856, 0.59782856, 0.59782856]), array([0.82116677, 0.82116677, 0.82116677, 0.82116677, 0.82116677,\n",
      "       0.82116677, 0.57967221, 0.82116677, 0.57967221, 0.82116677,\n",
      "       0.57967221, 0.82116677, 0.57967221, 0.82116677, 0.57967221,\n",
      "       0.57967221, 0.57967221, 0.57967221, 0.57967221, 0.57967221]), array([0.84242985, 0.84242985, 0.84242985, 0.84242985, 0.84242985,\n",
      "       0.84242985, 0.56328241, 0.84242985, 0.56328241, 0.84242985,\n",
      "       0.56328241, 0.84242985, 0.56328241, 0.84242985, 0.56328241,\n",
      "       0.56328241, 0.56328241, 0.56328241, 0.56328241, 0.56328241]), array([0.8623666, 0.8623666, 0.8623666, 0.8623666, 0.8623666, 0.8623666,\n",
      "       0.5484614, 0.8623666, 0.5484614, 0.8623666, 0.5484614, 0.8623666,\n",
      "       0.5484614, 0.8623666, 0.5484614, 0.5484614, 0.5484614, 0.5484614,\n",
      "       0.5484614, 0.5484614]), array([0.88103985, 0.88103985, 0.88103985, 0.88103985, 0.88103985,\n",
      "       0.88103985, 0.53503605, 0.88103985, 0.53503605, 0.88103985,\n",
      "       0.53503605, 0.88103985, 0.53503605, 0.88103985, 0.53503605,\n",
      "       0.53503605, 0.53503605, 0.53503605, 0.53503605, 0.53503605]), array([0.89851412, 0.89851412, 0.89851412, 0.89851412, 0.89851412,\n",
      "       0.89851412, 0.52285472, 0.89851412, 0.52285472, 0.89851412,\n",
      "       0.52285472, 0.89851412, 0.52285472, 0.89851412, 0.52285472,\n",
      "       0.52285472, 0.52285472, 0.52285472, 0.52285472, 0.52285472]), array([0.91485423, 0.91485423, 0.91485423, 0.91485423, 0.91485423,\n",
      "       0.91485423, 0.51178444, 0.91485423, 0.51178444, 0.91485423,\n",
      "       0.51178444, 0.91485423, 0.51178444, 0.91485423, 0.51178444,\n",
      "       0.51178444, 0.51178444, 0.51178444, 0.51178444, 0.51178444]), array([0.93012432, 0.93012432, 0.93012432, 0.93012432, 0.93012432,\n",
      "       0.93012432, 0.50170842, 0.93012432, 0.50170842, 0.93012432,\n",
      "       0.50170842, 0.93012432, 0.50170842, 0.93012432, 0.50170842,\n",
      "       0.50170842, 0.50170842, 0.50170842, 0.50170842, 0.50170842]), array([0.94438709, 0.94438709, 0.94438709, 0.94438709, 0.94438709,\n",
      "       0.94438709, 0.49252391, 0.94438709, 0.49252391, 0.94438709,\n",
      "       0.49252391, 0.94438709, 0.49252391, 0.94438709, 0.49252391,\n",
      "       0.49252391, 0.49252391, 0.49252391, 0.49252391, 0.49252391]), array([0.95770325, 0.95770325, 0.95770325, 0.95770325, 0.95770325,\n",
      "       0.95770325, 0.48414038, 0.95770325, 0.48414038, 0.95770325,\n",
      "       0.48414038, 0.95770325, 0.48414038, 0.95770325, 0.48414038,\n",
      "       0.48414038, 0.48414038, 0.48414038, 0.48414038, 0.48414038]), array([0.97013116, 0.97013116, 0.97013116, 0.97013116, 0.97013116,\n",
      "       0.97013116, 0.47647785, 0.97013116, 0.47647785, 0.97013116,\n",
      "       0.47647785, 0.97013116, 0.47647785, 0.97013116, 0.47647785,\n",
      "       0.47647785, 0.47647785, 0.47647785, 0.47647785, 0.47647785]), array([0.98172664, 0.98172664, 0.98172664, 0.98172664, 0.98172664,\n",
      "       0.98172664, 0.46946559, 0.98172664, 0.46946559, 0.98172664,\n",
      "       0.46946559, 0.98172664, 0.46946559, 0.98172664, 0.46946559,\n",
      "       0.46946559, 0.46946559, 0.46946559, 0.46946559, 0.46946559]), array([0.99254275, 0.99254275, 0.99254275, 0.99254275, 0.99254275,\n",
      "       0.99254275, 0.46304083, 0.99254275, 0.46304083, 0.99254275,\n",
      "       0.46304083, 0.99254275, 0.46304083, 0.99254275, 0.46304083,\n",
      "       0.46304083, 0.46304083, 0.46304083, 0.46304083, 0.46304083]), array([1.00262984, 1.00262984, 1.00262984, 1.00262984, 1.00262984,\n",
      "       1.00262984, 0.45714782, 1.00262984, 0.45714782, 1.00262984,\n",
      "       0.45714782, 1.00262984, 0.45714782, 1.00262984, 0.45714782,\n",
      "       0.45714782, 0.45714782, 0.45714782, 0.45714782, 0.45714782]), array([1.01203543, 1.01203543, 1.01203543, 1.01203543, 1.01203543,\n",
      "       1.01203543, 0.45173691, 1.01203543, 0.45173691, 1.01203543,\n",
      "       0.45173691, 1.01203543, 0.45173691, 1.01203543, 0.45173691,\n",
      "       0.45173691, 0.45173691, 0.45173691, 0.45173691, 0.45173691]), array([1.02080437, 1.02080437, 1.02080437, 1.02080437, 1.02080437,\n",
      "       1.02080437, 0.44676379, 1.02080437, 0.44676379, 1.02080437,\n",
      "       0.44676379, 1.02080437, 0.44676379, 1.02080437, 0.44676379,\n",
      "       0.44676379, 0.44676379, 0.44676379, 0.44676379, 0.44676379])]\n"
     ]
    }
   ],
   "source": [
    "Y = np.array([0,0,0,0,0,0,1,0,1,0,1,0,1,0,1,1,1,1,1,1])\n",
    "X = np.array([.5,.75,1,1.25,1.5,1.75,1.75,2,2.25,2.5,2.75,3,3.25,3.50,4,4.25,4.5,4.75,5,5.5])\n",
    "n = len(X)\n",
    "\n",
    "modelgd = LogisticRegressionGD()\n",
    "modelgd.fit(X,Y)\n",
    "coste = modelgd.fit(X,Y)\n",
    "print(coste)"
   ]
  },
  {
   "cell_type": "code",
   "execution_count": 202,
   "metadata": {},
   "outputs": [
    {
     "data": {
      "image/png": "[encoded data removed]",
      "text/plain": [
       "<Figure size 432x288 with 1 Axes>"
      ]
     },
     "metadata": {
      "needs_background": "light"
     },
     "output_type": "display_data"
    }
   ],
   "source": [
    "fig2 = plt.figure()\n",
    "plt.title('GD Logistic Regresion')\n",
    "plt.plot(X,Y, '.', label='Target')\n",
    "\n",
    "#plt.plot(np.arange(-10,6), 1/+(1+np.exp(-np.arange(-10,6))), '--', label='Model GD')\n",
    "plt.plot(X,1/(1+np.exp(-X)),'r', label='Sigmoide')\n",
    "plt.xlabel('X')\n",
    "plt.ylabel('Y')\n",
    "plt.legend(bbox_to_anchor=(1.05, 1), loc=1, borderaxespad=0.)\n",
    "plt.show()\n",
    "fig2.savefig(\"logisticregression.png\")"
   ]
  },
  {
   "cell_type": "code",
   "execution_count": null,
   "metadata": {},
   "outputs": [],
   "source": []
  }
 ],
 "metadata": {
  "kernelspec": {
   "display_name": "Python 3",
   "language": "python",
   "name": "python3"
  },
  "language_info": {
   "codemirror_mode": {
    "name": "ipython",
    "version": 3
   },
   "file_extension": ".py",
   "mimetype": "text/x-python",
   "name": "python",
   "nbconvert_exporter": "python",
   "pygments_lexer": "ipython3",
   "version": "3.7.1"
  }
 },
 "nbformat": 4,
 "nbformat_minor": 2
}
