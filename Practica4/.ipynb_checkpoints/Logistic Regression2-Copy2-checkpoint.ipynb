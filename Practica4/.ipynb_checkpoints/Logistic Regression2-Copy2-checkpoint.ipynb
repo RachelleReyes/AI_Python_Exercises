{
 "cells": [
  {
   "cell_type": "code",
   "execution_count": 3,
   "metadata": {},
   "outputs": [],
   "source": [
    "from sklearn import svm\n",
    "from matplotlib import pylab\n",
    "import numpy as np\n",
    "import matplotlib.pyplot as plt\n",
    "import pylab as plab"
   ]
  },
  {
   "cell_type": "markdown",
   "metadata": {},
   "source": [
    "# Regresión Logística"
   ]
  },
  {
   "cell_type": "markdown",
   "metadata": {},
   "source": [
    "# Aprendizaje por Gradiente Descendiente"
   ]
  },
  {
   "cell_type": "code",
   "execution_count": 60,
   "metadata": {},
   "outputs": [],
   "source": [
    "# Definicion de la hipotesis/funcion del sigmoide\n",
    "\n",
    "# Definicion de la funcion del coste\n",
    "      \n",
    "def CrossEntropy(y, hx):\n",
    "    #return -y.dot(np.log(hx)) - ((1-y).dot(np.log(1-hx)))\n",
    "    return -(1/n) * np.sum(y*np.log(hx) + (1-y)*np.log(1-hx))\n",
    "    \n",
    "class LogisticRegressionGD():\n",
    "    def __init__(self, max_iter=1000, eta=0.0001, max_error=0.1):\n",
    "        self.w = 0\n",
    "        self.max_iter = max_iter\n",
    "        self.eta = eta\n",
    "        self.max_error = max_error\n",
    "        \n",
    "    def dw0(self, x, y):\n",
    "        return 2*np.sum(-y+(self.w0+self.w1*x))\n",
    "    \n",
    "    def dw1(self, x, y):\n",
    "        return 2*np.sum((y-(self.w0+self.w1*x))*-x)\n",
    "    \n",
    "    \n",
    "    # Funcion Gradiente Descendente\n",
    "    def fit(self, x, y):\n",
    "        w = np.zeros(1+n)\n",
    "        #w = np.array([self.w0, self.w1])\n",
    "        coste = []\n",
    "        #for i in range(len(x)):\n",
    "        for i in range(self.max_iter):\n",
    "            #hx = self.eval(x)   # Funcion sigmoide\n",
    "            #error = hx - y           # Calculo del error\n",
    "            #grad = x.T.dot(error)    # Calcular gradiente\n",
    "            # Actualizar valores de w\n",
    "            #w[0] = w[0] - self.eta * error.sum()\n",
    "            #w[1:] = w[1:] - self.eta * grad\n",
    "            \n",
    "            #coste.append(self.errorCrossEntropy(y, hx))\n",
    "            ym = self.eval(x)\n",
    "            error = CrossEntropy(y,ym)\n",
    "            \n",
    "            w = w - self.eta* np.array([self.dw0(x,y),self.dw1(x,y)])\n",
    "            self.w0 = w[0]\n",
    "            self.w1 = w[1]\n",
    "            print(\"y = {}x + {}\".format(self.w1, self.w0))\n",
    "            \n",
    "            if error <= self.max_error:\n",
    "                break\n",
    "                \n",
    "        # return coste    \n",
    "    \n",
    "    def eval(self,x):\n",
    "        #z = np.dot(x, self.w[1:]) + self.w[0]\n",
    "        z = np.dot(x, self.w[1:]) + self.w[0]\n",
    "        return 1.0 /(1.0 + np.exp(-z))\n",
    "  "
   ]
  },
  {
   "cell_type": "code",
   "execution_count": 61,
   "metadata": {},
   "outputs": [
    {
     "ename": "TypeError",
     "evalue": "'int' object is not subscriptable",
     "output_type": "error",
     "traceback": [
      "\u001b[1;31m---------------------------------------------------------------------------\u001b[0m",
      "\u001b[1;31mTypeError\u001b[0m                                 Traceback (most recent call last)",
      "\u001b[1;32m<ipython-input-61-8eabc0b7703a>\u001b[0m in \u001b[0;36m<module>\u001b[1;34m\u001b[0m\n\u001b[0;32m      4\u001b[0m \u001b[1;33m\u001b[0m\u001b[0m\n\u001b[0;32m      5\u001b[0m \u001b[0mmodelgd\u001b[0m \u001b[1;33m=\u001b[0m \u001b[0mLogisticRegressionGD\u001b[0m\u001b[1;33m(\u001b[0m\u001b[1;33m)\u001b[0m\u001b[1;33m\u001b[0m\u001b[1;33m\u001b[0m\u001b[0m\n\u001b[1;32m----> 6\u001b[1;33m \u001b[0mmodelgd\u001b[0m\u001b[1;33m.\u001b[0m\u001b[0mfit\u001b[0m\u001b[1;33m(\u001b[0m\u001b[0mX\u001b[0m\u001b[1;33m,\u001b[0m\u001b[0mY\u001b[0m\u001b[1;33m)\u001b[0m\u001b[1;33m\u001b[0m\u001b[1;33m\u001b[0m\u001b[0m\n\u001b[0m\u001b[0;32m      7\u001b[0m \u001b[0mmodelgd\u001b[0m\u001b[1;33m.\u001b[0m\u001b[0meval\u001b[0m\u001b[1;33m(\u001b[0m\u001b[0mX\u001b[0m\u001b[1;33m)\u001b[0m\u001b[1;33m\u001b[0m\u001b[1;33m\u001b[0m\u001b[0m\n",
      "\u001b[1;32m<ipython-input-60-2a70514a9ff0>\u001b[0m in \u001b[0;36mfit\u001b[1;34m(self, x, y)\u001b[0m\n\u001b[0;32m     36\u001b[0m \u001b[1;33m\u001b[0m\u001b[0m\n\u001b[0;32m     37\u001b[0m             \u001b[1;31m#coste.append(self.errorCrossEntropy(y, hx))\u001b[0m\u001b[1;33m\u001b[0m\u001b[1;33m\u001b[0m\u001b[1;33m\u001b[0m\u001b[0m\n\u001b[1;32m---> 38\u001b[1;33m             \u001b[0mym\u001b[0m \u001b[1;33m=\u001b[0m \u001b[0mself\u001b[0m\u001b[1;33m.\u001b[0m\u001b[0meval\u001b[0m\u001b[1;33m(\u001b[0m\u001b[0mx\u001b[0m\u001b[1;33m)\u001b[0m\u001b[1;33m\u001b[0m\u001b[1;33m\u001b[0m\u001b[0m\n\u001b[0m\u001b[0;32m     39\u001b[0m             \u001b[0merror\u001b[0m \u001b[1;33m=\u001b[0m \u001b[0mCrossEntropy\u001b[0m\u001b[1;33m(\u001b[0m\u001b[0my\u001b[0m\u001b[1;33m,\u001b[0m\u001b[0mym\u001b[0m\u001b[1;33m)\u001b[0m\u001b[1;33m\u001b[0m\u001b[1;33m\u001b[0m\u001b[0m\n\u001b[0;32m     40\u001b[0m \u001b[1;33m\u001b[0m\u001b[0m\n",
      "\u001b[1;32m<ipython-input-60-2a70514a9ff0>\u001b[0m in \u001b[0;36meval\u001b[1;34m(self, x)\u001b[0m\n\u001b[0;32m     51\u001b[0m     \u001b[1;32mdef\u001b[0m \u001b[0meval\u001b[0m\u001b[1;33m(\u001b[0m\u001b[0mself\u001b[0m\u001b[1;33m,\u001b[0m\u001b[0mx\u001b[0m\u001b[1;33m)\u001b[0m\u001b[1;33m:\u001b[0m\u001b[1;33m\u001b[0m\u001b[1;33m\u001b[0m\u001b[0m\n\u001b[0;32m     52\u001b[0m         \u001b[1;31m#z = np.dot(x, self.w[1:]) + self.w[0]\u001b[0m\u001b[1;33m\u001b[0m\u001b[1;33m\u001b[0m\u001b[1;33m\u001b[0m\u001b[0m\n\u001b[1;32m---> 53\u001b[1;33m         \u001b[0mz\u001b[0m \u001b[1;33m=\u001b[0m \u001b[0mnp\u001b[0m\u001b[1;33m.\u001b[0m\u001b[0mdot\u001b[0m\u001b[1;33m(\u001b[0m\u001b[0mx\u001b[0m\u001b[1;33m,\u001b[0m \u001b[0mself\u001b[0m\u001b[1;33m.\u001b[0m\u001b[0mw\u001b[0m\u001b[1;33m[\u001b[0m\u001b[1;36m1\u001b[0m\u001b[1;33m:\u001b[0m\u001b[1;33m]\u001b[0m\u001b[1;33m)\u001b[0m \u001b[1;33m+\u001b[0m \u001b[0mself\u001b[0m\u001b[1;33m.\u001b[0m\u001b[0mw\u001b[0m\u001b[1;33m[\u001b[0m\u001b[1;36m0\u001b[0m\u001b[1;33m]\u001b[0m\u001b[1;33m\u001b[0m\u001b[1;33m\u001b[0m\u001b[0m\n\u001b[0m\u001b[0;32m     54\u001b[0m         \u001b[1;32mreturn\u001b[0m \u001b[1;36m1.0\u001b[0m \u001b[1;33m/\u001b[0m\u001b[1;33m(\u001b[0m\u001b[1;36m1.0\u001b[0m \u001b[1;33m+\u001b[0m \u001b[0mnp\u001b[0m\u001b[1;33m.\u001b[0m\u001b[0mexp\u001b[0m\u001b[1;33m(\u001b[0m\u001b[1;33m-\u001b[0m\u001b[0mz\u001b[0m\u001b[1;33m)\u001b[0m\u001b[1;33m)\u001b[0m\u001b[1;33m\u001b[0m\u001b[1;33m\u001b[0m\u001b[0m\n\u001b[0;32m     55\u001b[0m \u001b[1;33m\u001b[0m\u001b[0m\n",
      "\u001b[1;31mTypeError\u001b[0m: 'int' object is not subscriptable"
     ]
    }
   ],
   "source": [
    "Y = np.array([0,0,0,0,0,0,1,0,1,0,1,0,1,0,1,1,1,1,1,1])\n",
    "X = np.array([.5,.75,1,1.25,1.5,1.75,1.75,2,2.25,2.5,2.75,3,3.25,3.50,4,4.25,4.5,4.75,5,5.5])\n",
    "n = len(X)\n",
    "\n",
    "modelgd = LogisticRegressionGD()\n",
    "modelgd.fit(X,Y)\n",
    "modelgd.eval(X)"
   ]
  },
  {
   "cell_type": "code",
   "execution_count": 59,
   "metadata": {},
   "outputs": [
    {
     "data": {
      "image/png": "[encoded data removed]",
      "text/plain": [
       "<Figure size 432x288 with 1 Axes>"
      ]
     },
     "metadata": {
      "needs_background": "light"
     },
     "output_type": "display_data"
    }
   ],
   "source": [
    "fig2 = plt.figure()\n",
    "plt.title('GD Logistic Regresion')\n",
    "plt.plot(X,Y, '.', label='Target')\n",
    "\n",
    "#plt.plot(np.arange(-10,6), 1/+(1+np.exp(-np.arange(-10,6))), '--', label='Model GD')\n",
    "plt.plot(np.arange(0,6),modelgd.eval(np.arange(0,6)),'r', label='Sigmoide')\n",
    "plt.xlabel('X')\n",
    "plt.ylabel('Y')\n",
    "plt.legend(bbox_to_anchor=(1.05, 1), loc=1, borderaxespad=0.)\n",
    "plt.show()\n",
    "fig2.savefig(\"logisticregression.png\")"
   ]
  },
  {
   "cell_type": "code",
   "execution_count": null,
   "metadata": {},
   "outputs": [],
   "source": []
  }
 ],
 "metadata": {
  "kernelspec": {
   "display_name": "Python 3",
   "language": "python",
   "name": "python3"
  },
  "language_info": {
   "codemirror_mode": {
    "name": "ipython",
    "version": 3
   },
   "file_extension": ".py",
   "mimetype": "text/x-python",
   "name": "python",
   "nbconvert_exporter": "python",
   "pygments_lexer": "ipython3",
   "version": "3.7.1"
  }
 },
 "nbformat": 4,
 "nbformat_minor": 2
}
