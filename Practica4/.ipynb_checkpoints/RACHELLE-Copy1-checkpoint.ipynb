{
 "cells": [
  {
   "cell_type": "code",
   "execution_count": 46,
   "metadata": {},
   "outputs": [],
   "source": [
    "from sklearn import svm\n",
    "\n",
    "import numpy as np\n",
    "import matplotlib.pyplot as plt"
   ]
  },
  {
   "cell_type": "code",
   "execution_count": 62,
   "metadata": {},
   "outputs": [],
   "source": [
    "X = np.array([[.5],[.75],[1],[1.25],[1.5],[1.75],[1.75],[2],[2.25],[2.5],[2.75],[3],[3.25],[3.50],[4],[4.25],[4.5],[4.75],[5],[5.5]])\n",
    "n = len(X)\n",
    "ones = np.ones(X.shape)\n",
    "X = np.hstack([ones,X])\n",
    "Y = np.array([0,0,0,0,0,0,1,0,1,0,1,0,1,0,1,1,1,1,1,1]).reshape([-1,1])\n",
    "w = np.array([[0],[0]])\n",
    "\n",
    "class LogisticRegressionGD():\n",
    "    def __init__(self, max_iter=1000, eta=0.0001, max_error=0.1):\n",
    "        self.w = 0\n",
    "        self.max_iter = max_iter\n",
    "        self.eta = eta\n",
    "        self.max_error = max_error\n",
    "    \n",
    "    def fit(self, x, y):\n",
    "        w = np.array([[0], [0]])\n",
    "        for i in range(self.max_iter):\n",
    "            m = x.shape[0]\n",
    "            h = sigmoide(np.matmul(x, w))\n",
    "            grad = np.matmul(X.T, (h - y)) / m;\n",
    "            w = w - self.eta * grad\n",
    "            if i % 50 == 0:\n",
    "                print(self.cost(X, Y, w))\n",
    "        return w\n",
    "    \n",
    "    def cost(self, x, y, theta):\n",
    "        m = x.shape[0]\n",
    "        h = sigmoide(np.matmul(x, theta))\n",
    "        cost = (np.matmul(-y.T, np.log(h)) - np.matmul((1 -y.T), np.log(1 - h)))/m\n",
    "        return cost\n",
    "    \n",
    "    def sigmoide(self,x):\n",
    "        return 1.0 / (1 + np.exp(-x))\n",
    "    \n",
    "    def h(self,x,w):\n",
    "        return self.sigmoide(np.matmul(x,w))\n",
    "    \n"
   ]
  },
  {
   "cell_type": "code",
   "execution_count": 70,
   "metadata": {},
   "outputs": [
    {
     "name": "stdout",
     "output_type": "stream",
     "text": [
      "[[0.69312155]]\n",
      "[[0.69185634]]\n",
      "[[0.69062209]]\n",
      "[[0.68941798]]\n",
      "[[0.6882432]]\n",
      "[[0.68709698]]\n",
      "[[0.68597855]]\n",
      "[[0.68488718]]\n",
      "[[0.68382215]]\n",
      "[[0.68278274]]\n",
      "[[0.68176827]]\n",
      "[[0.68077808]]\n",
      "[[0.67981151]]\n",
      "[[0.67886793]]\n",
      "[[0.67794672]]\n",
      "[[0.67704727]]\n",
      "[[0.67616902]]\n",
      "[[0.67531138]]\n",
      "[[0.6744738]]\n",
      "[[0.67365573]]\n"
     ]
    },
    {
     "data": {
      "image/png": "[encoded data removed]",
      "text/plain": [
       "<Figure size 432x288 with 1 Axes>"
      ]
     },
     "metadata": {
      "needs_background": "light"
     },
     "output_type": "display_data"
    }
   ],
   "source": [
    "def graficar(X,Xmod,Y,W):\n",
    "    plt.figure()\n",
    "    plt.title('GD Logistic Regresion')\n",
    "    plt.plot(Xorig,Y, '.', label='Target')\n",
    "    plt.plot(Xorig,modelgd.h(X,W),'--', label='Modelo')\n",
    "    plt.xlabel('X')\n",
    "    plt.ylabel('Y')\n",
    "    plt.legend(bbox_to_anchor=(1.05, 1), loc=1, borderaxespad=0.)\n",
    "    plt.show()\n",
    "    #fig2.savefig(\"logisticregression.png\")\n",
    "\n",
    "    \n",
    "X = np.array([[.5],[.75],[1],[1.25],[1.5],[1.75],[1.75],[2],[2.25],[2.5],[2.75],[3],[3.25],[3.50],[4],[4.25],[4.5],[4.75],[5],[5.5]])\n",
    "Y = np.array([0,0,0,0,0,0,1,0,1,0,1,0,1,0,1,1,1,1,1,1])\n",
    "Y = np.array([0,0,0,0,0,0,1,0,1,0,1,0,1,0,1,1,1,1,1,1]).reshape([-1,1])\n",
    "w = np.array([[0],[0]])\n",
    "ones = np.ones(X.shape)\n",
    "Xmod = np.hstack([ones,X])\n",
    "\n",
    "modelgd = LogisticRegressionGD()\n",
    "#modelgd.fit(X,Y)\n",
    "#print(modelgd.fit(X,Y))\n",
    "graficar(X,Xorig,Y,modelgd.fit(X,Y))\n",
    "\n"
   ]
  },
  {
   "cell_type": "code",
   "execution_count": null,
   "metadata": {},
   "outputs": [],
   "source": []
  }
 ],
 "metadata": {
  "kernelspec": {
   "display_name": "Python 3",
   "language": "python",
   "name": "python3"
  },
  "language_info": {
   "codemirror_mode": {
    "name": "ipython",
    "version": 3
   },
   "file_extension": ".py",
   "mimetype": "text/x-python",
   "name": "python",
   "nbconvert_exporter": "python",
   "pygments_lexer": "ipython3",
   "version": "3.7.1"
  }
 },
 "nbformat": 4,
 "nbformat_minor": 2
}
