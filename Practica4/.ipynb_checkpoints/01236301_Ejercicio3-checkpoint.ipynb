{
 "cells": [
  {
   "cell_type": "code",
   "execution_count": 91,
   "metadata": {},
   "outputs": [
    {
     "name": "stdout",
     "output_type": "stream",
     "text": [
      "\u001b[1m\n",
      "\n",
      "REGRESION LOGISTICA.\n",
      "\u001b[0m\n"
     ]
    },
    {
     "data": {
      "image/png": "[encoded data removed]",
      "text/plain": [
       "<Figure size 432x288 with 1 Axes>"
      ]
     },
     "metadata": {
      "needs_background": "light"
     },
     "output_type": "display_data"
    },
    {
     "name": "stdout",
     "output_type": "stream",
     "text": [
      "VALORES DE TETA:\n",
      "[[-4.07633226]\n",
      " [ 1.50417789]]\n"
     ]
    }
   ],
   "source": [
    "import numpy as np\n",
    "import matplotlib.pyplot as plt\n",
    "\n",
    "\n",
    "#Clase para tipo de letra\n",
    "class style:\n",
    "   BOLD = '\\033[1m'\n",
    "   END = '\\033[0m'\n",
    "    \n",
    "class LogisticRegression():\n",
    "    \n",
    "    def __init__(self, max_iter=1000, eta=0.5, max_error=0.1):\n",
    "        self.h = 0\n",
    "        self.max_iter = max_iter\n",
    "        self.eta = eta\n",
    "        self.max_error = max_error\n",
    "    \n",
    "    #Formula de H\n",
    "    def sigmoid(self,a):\n",
    "        return 1.0 / (1 + np.exp(-a))    \n",
    "    \n",
    "    def h0(self,x,w):\n",
    "        return self.sigmoid(np.matmul(x, w))\n",
    "    \n",
    "    def cost(self,x, y, theta):        \n",
    "        m = x.shape[0]\n",
    "        self.h = self.sigmoid(x*theta)\n",
    "        cost = (np.matmul(-y, np.log(h)) + np.matmul((1 -y), np.log(1 - h)))/-m\n",
    "        return cost\n",
    "    \n",
    "    def gradient_Descent(self,theta, alpha, x , y):\n",
    "        m = x.shape[0]\n",
    "        h = self.sigmoid(np.matmul(x, theta))\n",
    "        grad = np.matmul(x.T, (h - y)) / m;\n",
    "        theta = theta - alpha * grad\n",
    "        \n",
    "        return theta\n",
    "    \n",
    "    def fit(self, x,x2,y,w):\n",
    "        self.x = x\n",
    "        self.y = y\n",
    "        #print(w)\n",
    "        for i in range(self.max_iter):\n",
    "            w = self.gradient_Descent(w, self.eta, X, Y)\n",
    "        \n",
    "        graficar(x,x2,y,w)\n",
    "        print(\"VALORES DE TETA:\")\n",
    "        print(w)\n",
    "\n",
    "#Metodo para graficar\n",
    "def graficar(X,X2,Y,W):\n",
    "    plt.figure()\n",
    "    plt.title('Regresion Logistica')\n",
    "    plt.plot(X2,Y, '.', label='Target')\n",
    "    plt.plot(X2,model.h0(X,W), '--', label='Model GD')\n",
    "    plt.xlabel('X')\n",
    "    plt.ylabel('Y')\n",
    "    plt.legend(bbox_to_anchor=(1.05, 1), loc=1, borderaxespad=0.)\n",
    "    plt.show()\n",
    "    \n",
    "\n",
    "X = np.array([[0.50],[0.75],[1.00],[1.25],[1.50],[1.75],[1.75],[2.00],[2.25],[2.50],[2.75],[3.00],[3.25],[3.50],[4.00],[4.25],[4.50],[4.75],[5.00],[5.50]])\n",
    "ones = np.ones(X.shape)\n",
    "X = np.hstack([ones, X])\n",
    "\n",
    "X2 = np.array([0.50,0.75,1.00,1.25,1.50,1.75,1.75,2.00,2.25,2.50,2.75,3.00,3.25,3.50,4.00,4.25,4.50,4.75,5.00,5.50])\n",
    "Y = np.array([0,0,0,0,0,0,1,0,1,0,1,0,1,0,1,1,1,1,1,1]).reshape([-1, 1])\n",
    "\n",
    "#Arreglo de Theta\n",
    "W = np.array([[0], [0]])\n",
    "print(style.BOLD + '\\n\\nREGRESION LOGISTICA.\\n' + style.END)\n",
    "model = LogisticRegression()\n",
    "model.fit(X,X2,Y,W)\n",
    "\n",
    "\n"
   ]
  },
  {
   "cell_type": "code",
   "execution_count": null,
   "metadata": {},
   "outputs": [],
   "source": []
  },
  {
   "cell_type": "code",
   "execution_count": null,
   "metadata": {},
   "outputs": [],
   "source": []
  },
  {
   "cell_type": "code",
   "execution_count": null,
   "metadata": {},
   "outputs": [],
   "source": []
  }
 ],
 "metadata": {
  "kernelspec": {
   "display_name": "Python 3",
   "language": "python",
   "name": "python3"
  },
  "language_info": {
   "codemirror_mode": {
    "name": "ipython",
    "version": 3
   },
   "file_extension": ".py",
   "mimetype": "text/x-python",
   "name": "python",
   "nbconvert_exporter": "python",
   "pygments_lexer": "ipython3",
   "version": "3.7.1"
  }
 },
 "nbformat": 4,
 "nbformat_minor": 2
}
