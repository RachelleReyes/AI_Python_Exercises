{
 "cells": [
  {
   "cell_type": "markdown",
   "metadata": {},
   "source": [
    "# Practica 2"
   ]
  },
  {
   "cell_type": "markdown",
   "metadata": {},
   "source": [
    "#Ejercicio 4"
   ]
  },
  {
   "cell_type": "code",
   "execution_count": 6,
   "metadata": {},
   "outputs": [
    {
     "name": "stdout",
     "output_type": "stream",
     "text": [
      "Ingrese las dimensiones de la matriz\n",
      "x: 5\n",
      "y: 5\n",
      "Ingrese el rango de valores\n",
      "min: 1\n",
      "max: 10\n",
      "\n",
      "Primera matriz\n",
      "[[9.99925486 8.34925008 6.27193415 1.22685526 1.60859039]\n",
      " [2.80767294 9.10966911 3.46900168 8.41718463 4.69395973]\n",
      " [9.98689394 9.0426119  3.21224657 1.30579644 1.2808199 ]\n",
      " [8.48777214 9.35477169 8.63045035 4.63019892 3.33674232]\n",
      " [8.62925944 1.0945112  1.05930705 2.58028178 9.53403031]]\n",
      "\n",
      "Segunda matriz\n",
      "[[7.08343293 3.36829737 7.82847648 9.27336223 8.9577116 ]\n",
      " [3.3220958  3.96021787 4.00736078 1.48893096 2.78064982]\n",
      " [3.48833444 6.00539327 1.02308282 2.76168544 3.49863043]\n",
      " [2.37601322 9.30082124 3.90634068 4.7472955  3.96544121]\n",
      " [2.55470313 1.43900211 9.13699042 3.77962196 4.23871952]]\n",
      "\n",
      "a @ b (Multiplicacion de matrices)\n",
      "[[127.46915891 118.13627079 137.64428651 134.38338658 146.41334758]\n",
      " [ 94.24321    151.40741861 137.80366413 106.88078401 115.89210862]\n",
      " [118.36201095 102.72842754 134.50929182 125.98714105 136.44961175]\n",
      " [140.8317095  165.33175469 161.33885227 151.06593094 164.74241183]\n",
      " [ 98.94346952  77.48019953 170.21561805 132.86176351 134.69202977]]\n",
      "\n",
      "a * b (Multiplicacion Hadamard)\n",
      "[[70.82905116 28.1227571  49.09968903 11.37707324 14.40928878]\n",
      " [ 9.32735847 36.07627438 13.90154129 12.53260681 13.05225828]\n",
      " [34.83762612 54.30444067  3.28639427  3.60619901  4.48111548]\n",
      " [20.1670588  87.00705924 33.71347933 21.98092249 13.2316555 ]\n",
      " [22.04519609  1.57500393  9.67887839  9.75248969 40.41208039]]\n",
      "\n"
     ]
    }
   ],
   "source": [
    "import numpy as np\n",
    "\n",
    "dimensiones = []\n",
    "print(\"Ingrese las dimensiones de la matriz\")\n",
    "dimensiones.append(int(input(\"x: \")))\n",
    "dimensiones.append(int(input(\"y: \")))\n",
    "\n",
    "rango = []\n",
    "print(\"Ingrese el rango de valores\")\n",
    "rango.append(int(input(\"min: \")))\n",
    "rango.append(int(input(\"max: \")))\n",
    "\n",
    "def crearMatriz(dimensiones,rango):\n",
    "    return (rango[1]-rango[0]) *np.random.rand(dimensiones[0],dimensiones[1]) + rango[0]\n",
    "\n",
    "a = crearMatriz(dimensiones,rango) \n",
    "b = crearMatriz(dimensiones,rango) \n",
    "print('\\nPrimera matriz\\n%s\\n' % a)\n",
    "print('Segunda matriz\\n%s\\n' % b)\n",
    "print('a @ b (Multiplicacion de matrices)\\n%s\\n' % (a @ b))\n",
    "print('a * b (Multiplicacion Hadamard)\\n%s\\n' % (a * b))\n"
   ]
  },
  {
   "cell_type": "code",
   "execution_count": null,
   "metadata": {},
   "outputs": [],
   "source": []
  },
  {
   "cell_type": "code",
   "execution_count": null,
   "metadata": {},
   "outputs": [],
   "source": []
  },
  {
   "cell_type": "code",
   "execution_count": null,
   "metadata": {},
   "outputs": [],
   "source": []
  },
  {
   "cell_type": "code",
   "execution_count": null,
   "metadata": {},
   "outputs": [],
   "source": []
  }
 ],
 "metadata": {
  "kernelspec": {
   "display_name": "Python 3",
   "language": "python",
   "name": "python3"
  },
  "language_info": {
   "codemirror_mode": {
    "name": "ipython",
    "version": 3
   },
   "file_extension": ".py",
   "mimetype": "text/x-python",
   "name": "python",
   "nbconvert_exporter": "python",
   "pygments_lexer": "ipython3",
   "version": "3.7.1"
  }
 },
 "nbformat": 4,
 "nbformat_minor": 2
}
