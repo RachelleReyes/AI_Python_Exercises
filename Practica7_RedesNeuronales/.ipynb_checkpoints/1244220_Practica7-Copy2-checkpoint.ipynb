{
 "cells": [
  {
   "cell_type": "code",
   "execution_count": 3,
   "metadata": {},
   "outputs": [],
   "source": [
    "import numpy as np"
   ]
  },
  {
   "cell_type": "markdown",
   "metadata": {},
   "source": [
    "# Redes Neuronales"
   ]
  },
  {
   "cell_type": "code",
   "execution_count": 4,
   "metadata": {},
   "outputs": [
    {
     "name": "stdout",
     "output_type": "stream",
     "text": [
      "4\n"
     ]
    }
   ],
   "source": [
    "inputs = np.array([\n",
    "[4.7,6.0],\n",
    "[6.1,3.9],\n",
    "[2.9,4.2],\n",
    "[7.0,5.5]])\n",
    "\n",
    "targets = np.array([\n",
    "[3.52,4.02],\n",
    "[5.43,6.23],\n",
    "[4.95,5.76],\n",
    "[4.70,4.28]])\n",
    "\n",
    "#Instancias \n",
    "instancias,atributos = inputs.shape\n",
    "q = instancias\n",
    "print(q)"
   ]
  },
  {
   "cell_type": "markdown",
   "metadata": {},
   "source": [
    "### Propagacion hacia adelante"
   ]
  },
  {
   "cell_type": "code",
   "execution_count": 5,
   "metadata": {},
   "outputs": [
    {
     "name": "stdout",
     "output_type": "stream",
     "text": [
      "[[4.7 6.1 2.9 7. ]\n",
      " [6.  3.9 4.2 5.5]]\n"
     ]
    }
   ],
   "source": [
    "#a0 = np.transpose(inputs)\n",
    "print(inputs.T)"
   ]
  },
  {
   "cell_type": "code",
   "execution_count": 54,
   "metadata": {},
   "outputs": [
    {
     "name": "stdout",
     "output_type": "stream",
     "text": [
      "[[3.52 5.43 4.95 4.7 ]\n",
      " [4.02 6.23 5.76 4.28]]\n",
      "[[0.99277945 0.99278087 0.99273356 0.99278716]\n",
      " [0.92907523 0.92908042 0.92890832 0.92910332]]\n",
      "127.70066176842604\n",
      "[[0.99277945 0.99278087 0.99273356 0.99278716]\n",
      " [0.92907523 0.92908042 0.92890832 0.92910332]]\n",
      "127.70066176842604\n"
     ]
    }
   ],
   "source": [
    "# Funcion de transferencia\n",
    "def funcionTransferencia(activacion):\n",
    "    return np.tanh(activacion)\n",
    "\n",
    "# Funcion que realiza la activación de la neruona con los pesos y entradas\n",
    "def activar(pesos, entradas):\n",
    "    return np.dot(pesos,entradas)\n",
    "\n",
    "def propagacionAdelante(entradas,instancias,pesos):\n",
    "    entradasAumentadas = []\n",
    "    for i in range(instancias):\n",
    "        if i>0 & i<(instancias-2):\n",
    "            z = activar(pesos[i-1],entradasAumentadas)\n",
    "            entradas = funcionTransferencia(z)\n",
    "            entradasAumentadas = np.concatenate([entradas,np.ones((1,instancias))],axis=0)\n",
    "        elif i == 0:\n",
    "            entradasAumentadas = np.concatenate([entradas,np.ones((1,instancias))],axis=0)\n",
    "    return entradas\n",
    "    \n",
    "def sse(target, predicted):\n",
    "    return np.sum(np.power(target-predicted,2))\n",
    "    \n",
    "w1_ = np.random.rand(2,3)\n",
    "w2_ = np.random.rand(3,3)\n",
    "w3_ = np.random.rand(2,4)\n",
    "\n",
    "pesos = [w1_,w2_,w3_]\n",
    "a0 = np.transpose(inputs)\n",
    "\n",
    "\n",
    "# Valores de pesos\n",
    "\n",
    "z1 = np.dot(w1_,a0_)\n",
    "a1 = np.tanh(z1)\n",
    "a1_ = np.concatenate([a1,np.ones((1,q))],axis=0)\n",
    "\n",
    "\n",
    "z2 = np.dot(w2_,a1_)\n",
    "a2 = np.tanh(z2)\n",
    "a2_ = np.concatenate([a2,np.ones((1,q))],axis=0)\n",
    "\n",
    "\n",
    "z3 = np.dot(w3_,a2_)\n",
    "a3 = np.tanh(z3)\n",
    "#a3_ = np.concatenate([a3,np.ones((1,q))],axis=0)\n",
    "\n",
    "error = np.subtract(targets.T,a3)\n",
    "sse = np.sum(np.power(error,2))\n",
    "print(targets.T)\n",
    "print(a3)\n",
    "print(sse)\n",
    "\n",
    "\n",
    "a = propagacionAdelante(a0,4,pesos)\n",
    "print(a)\n",
    "error = np.subtract(targets.T,a)\n",
    "sse = np.sum(np.power(error,2))\n",
    "print(sse)"
   ]
  },
  {
   "cell_type": "code",
   "execution_count": 19,
   "metadata": {},
   "outputs": [
    {
     "ename": "NameError",
     "evalue": "name 'pesos' is not defined",
     "output_type": "error",
     "traceback": [
      "\u001b[1;31m---------------------------------------------------------------------------\u001b[0m",
      "\u001b[1;31mNameError\u001b[0m                                 Traceback (most recent call last)",
      "\u001b[1;32m<ipython-input-19-5b7e476c0dd4>\u001b[0m in \u001b[0;36m<module>\u001b[1;34m\u001b[0m\n\u001b[0;32m     24\u001b[0m \u001b[0mred\u001b[0m \u001b[1;33m=\u001b[0m \u001b[1;33m[\u001b[0m\u001b[1;33m[\u001b[0m\u001b[1;33m{\u001b[0m\u001b[1;34m'pesos'\u001b[0m\u001b[1;33m:\u001b[0m \u001b[1;33m[\u001b[0m\u001b[0mw1_\u001b[0m \u001b[1;33m]\u001b[0m\u001b[1;33m}\u001b[0m\u001b[1;33m]\u001b[0m\u001b[1;33m,\u001b[0m\u001b[1;33m[\u001b[0m\u001b[1;33m{\u001b[0m\u001b[1;34m'pesos'\u001b[0m\u001b[1;33m:\u001b[0m \u001b[1;33m[\u001b[0m\u001b[0mw2_\u001b[0m\u001b[1;33m]\u001b[0m \u001b[1;33m}\u001b[0m\u001b[1;33m]\u001b[0m\u001b[1;33m,\u001b[0m\u001b[1;33m[\u001b[0m\u001b[1;33m{\u001b[0m\u001b[1;34m'pesos'\u001b[0m\u001b[1;33m:\u001b[0m \u001b[1;33m[\u001b[0m\u001b[0mw2_\u001b[0m\u001b[1;33m]\u001b[0m \u001b[1;33m}\u001b[0m\u001b[1;33m]\u001b[0m\u001b[1;33m]\u001b[0m\u001b[1;33m\u001b[0m\u001b[1;33m\u001b[0m\u001b[0m\n\u001b[0;32m     25\u001b[0m \u001b[0minstancias\u001b[0m \u001b[1;33m=\u001b[0m \u001b[1;33m[\u001b[0m\u001b[1;36m1\u001b[0m\u001b[1;33m,\u001b[0m\u001b[1;36m0\u001b[0m\u001b[1;33m,\u001b[0m\u001b[1;32mNone\u001b[0m\u001b[1;33m]\u001b[0m\u001b[1;33m\u001b[0m\u001b[1;33m\u001b[0m\u001b[0m\n\u001b[1;32m---> 26\u001b[1;33m \u001b[0msalida\u001b[0m \u001b[1;33m=\u001b[0m \u001b[0mpropagacionAdelante\u001b[0m\u001b[1;33m(\u001b[0m\u001b[0mred\u001b[0m\u001b[1;33m,\u001b[0m \u001b[0minstancias\u001b[0m\u001b[1;33m)\u001b[0m\u001b[1;33m\u001b[0m\u001b[1;33m\u001b[0m\u001b[0m\n\u001b[0m\u001b[0;32m     27\u001b[0m \u001b[0mprint\u001b[0m\u001b[1;33m(\u001b[0m\u001b[0msalida\u001b[0m\u001b[1;33m)\u001b[0m\u001b[1;33m\u001b[0m\u001b[1;33m\u001b[0m\u001b[0m\n",
      "\u001b[1;32m<ipython-input-19-5b7e476c0dd4>\u001b[0m in \u001b[0;36mpropagacionAdelante\u001b[1;34m(redNeuronal, instancia)\u001b[0m\n\u001b[0;32m     16\u001b[0m         \u001b[0mnuevas_entradas\u001b[0m \u001b[1;33m=\u001b[0m \u001b[1;33m[\u001b[0m\u001b[1;33m]\u001b[0m\u001b[1;33m\u001b[0m\u001b[1;33m\u001b[0m\u001b[0m\n\u001b[0;32m     17\u001b[0m         \u001b[1;32mfor\u001b[0m \u001b[0mredNeuronal\u001b[0m \u001b[1;32min\u001b[0m \u001b[0mcapa\u001b[0m\u001b[1;33m:\u001b[0m\u001b[1;33m\u001b[0m\u001b[1;33m\u001b[0m\u001b[0m\n\u001b[1;32m---> 18\u001b[1;33m             \u001b[0mactivacion\u001b[0m \u001b[1;33m=\u001b[0m \u001b[0mactivar\u001b[0m\u001b[1;33m(\u001b[0m\u001b[0mredNeuronal\u001b[0m\u001b[1;33m[\u001b[0m\u001b[1;34m'pesos'\u001b[0m\u001b[1;33m]\u001b[0m\u001b[1;33m,\u001b[0m\u001b[0mentradas\u001b[0m\u001b[1;33m)\u001b[0m\u001b[1;33m\u001b[0m\u001b[1;33m\u001b[0m\u001b[0m\n\u001b[0m\u001b[0;32m     19\u001b[0m             \u001b[0mredNeuronal\u001b[0m\u001b[1;33m[\u001b[0m\u001b[1;34m'salida'\u001b[0m\u001b[1;33m]\u001b[0m \u001b[1;33m=\u001b[0m \u001b[0mfuncionTransferencia\u001b[0m\u001b[1;33m(\u001b[0m\u001b[0mactivacion\u001b[0m\u001b[1;33m)\u001b[0m\u001b[1;33m\u001b[0m\u001b[1;33m\u001b[0m\u001b[0m\n\u001b[0;32m     20\u001b[0m             \u001b[0mnuevas_Entradas\u001b[0m\u001b[1;33m.\u001b[0m\u001b[0mappend\u001b[0m\u001b[1;33m(\u001b[0m\u001b[0mredNeuronal\u001b[0m\u001b[1;33m[\u001b[0m\u001b[1;34m'salida'\u001b[0m\u001b[1;33m]\u001b[0m\u001b[1;33m)\u001b[0m\u001b[1;33m\u001b[0m\u001b[1;33m\u001b[0m\u001b[0m\n",
      "\u001b[1;32m<ipython-input-19-5b7e476c0dd4>\u001b[0m in \u001b[0;36mactivar\u001b[1;34m(peso, entradas)\u001b[0m\n\u001b[0;32m      1\u001b[0m \u001b[1;31m# Funcion que realiza la activación de la neruona con los pesos y entradas\u001b[0m\u001b[1;33m\u001b[0m\u001b[1;33m\u001b[0m\u001b[1;33m\u001b[0m\u001b[0m\n\u001b[0;32m      2\u001b[0m \u001b[1;32mdef\u001b[0m \u001b[0mactivar\u001b[0m\u001b[1;33m(\u001b[0m\u001b[0mpeso\u001b[0m\u001b[1;33m,\u001b[0m \u001b[0mentradas\u001b[0m\u001b[1;33m)\u001b[0m\u001b[1;33m:\u001b[0m\u001b[1;33m\u001b[0m\u001b[1;33m\u001b[0m\u001b[0m\n\u001b[1;32m----> 3\u001b[1;33m     \u001b[0mactivacion\u001b[0m \u001b[1;33m=\u001b[0m \u001b[0mpesos\u001b[0m\u001b[1;33m[\u001b[0m\u001b[1;33m-\u001b[0m\u001b[1;36m1\u001b[0m\u001b[1;33m]\u001b[0m\u001b[1;33m\u001b[0m\u001b[1;33m\u001b[0m\u001b[0m\n\u001b[0m\u001b[0;32m      4\u001b[0m     \u001b[1;32mfor\u001b[0m \u001b[0mi\u001b[0m \u001b[1;32min\u001b[0m \u001b[0mrange\u001b[0m\u001b[1;33m(\u001b[0m\u001b[0mlen\u001b[0m\u001b[1;33m(\u001b[0m\u001b[0mpesos\u001b[0m\u001b[1;33m)\u001b[0m\u001b[1;33m-\u001b[0m\u001b[1;36m1\u001b[0m\u001b[1;33m)\u001b[0m\u001b[1;33m:\u001b[0m\u001b[1;33m\u001b[0m\u001b[1;33m\u001b[0m\u001b[0m\n\u001b[0;32m      5\u001b[0m         \u001b[0mactivacion\u001b[0m \u001b[1;33m+=\u001b[0m \u001b[0mpesos\u001b[0m\u001b[1;33m[\u001b[0m\u001b[0mi\u001b[0m\u001b[1;33m]\u001b[0m \u001b[1;33m*\u001b[0m \u001b[0mentradas\u001b[0m\u001b[1;33m[\u001b[0m\u001b[0mi\u001b[0m\u001b[1;33m]\u001b[0m\u001b[1;33m\u001b[0m\u001b[1;33m\u001b[0m\u001b[0m\n",
      "\u001b[1;31mNameError\u001b[0m: name 'pesos' is not defined"
     ]
    }
   ],
   "source": [
    "# Funcion que realiza la activación de la neruona con los pesos y entradas\n",
    "def activar(peso, entradas):\n",
    "    activacion = pesos[-1]\n",
    "    for i in range(len(pesos)-1):\n",
    "        activacion += pesos[i] * entradas[i]\n",
    "    return activacion\n",
    "\n",
    "# Funcion de transferencia\n",
    "def funcionTransferencia(activacion):\n",
    "    return 1/(1+exp(-activacion))\n",
    "\n",
    "# Funcion que realiza la operación de propagación hacia adelante \n",
    "def propagacionAdelante(redNeuronal,instancia):\n",
    "    entradas = instancia\n",
    "    for capa in redNeuronal:\n",
    "        nuevas_entradas = []\n",
    "        for redNeuronal in capa:\n",
    "            activacion = activar(redNeuronal['pesos'],entradas)\n",
    "            redNeuronal['salida'] = funcionTransferencia(activacion)\n",
    "            nuevas_Entradas.append(redNeuronal['salida'])\n",
    "        entradas = nuevas_Entradas\n",
    "    return entradas\n",
    "\n",
    "red = [[{'pesos': [w1_ ]}],[{'pesos': [w2_] }],[{'pesos': [w2_] }]]\n",
    "instancias = [1,0,None]\n",
    "salida = propagacionAdelante(red, instancias)\n",
    "print(salida)\n"
   ]
  },
  {
   "cell_type": "code",
   "execution_count": 20,
   "metadata": {},
   "outputs": [
    {
     "name": "stdout",
     "output_type": "stream",
     "text": [
      "[[3.52 5.43 4.95 4.7 ]\n",
      " [4.02 6.23 5.76 4.28]]\n",
      "[[0.98566674 0.98566683 0.98566374 0.98566688]\n",
      " [0.7592867  0.75928718 0.75927079 0.7592874 ]]\n",
      "133.65083476047005\n"
     ]
    }
   ],
   "source": [
    "# Entradas 4x2\n",
    "\n",
    "a0 = np.transpose(inputs)\n",
    "#a0= a0.T\n",
    "#Entradas Aumentadas\n",
    "a0_ = np.concatenate([a0,np.ones((1,q))],axis=0)\n",
    "\n",
    "# Valores de pesos\n",
    "w1_ = np.random.rand(2,3)\n",
    "z1 = np.dot(w1_,a0_)\n",
    "a1 = np.tanh(z1)\n",
    "a1_ = np.concatenate([a1,np.ones((1,q))],axis=0)\n",
    "\n",
    "w2_ = np.random.rand(3,3)\n",
    "z2 = np.dot(w2_,a1_)\n",
    "a2 = np.tanh(z2)\n",
    "a2_ = np.concatenate([a2,np.ones((1,q))],axis=0)\n",
    "\n",
    "w3_ = np.random.rand(2,4)\n",
    "z3 = np.dot(w3_,a2_)\n",
    "a3 = np.tanh(z3)\n",
    "#a3_ = np.concatenate([a3,np.ones((1,q))],axis=0)\n",
    "\n",
    "error = np.subtract(targets.T,a3)\n",
    "sse = np.sum(np.power(error,2))\n",
    "print(targets.T)\n",
    "print(a3)\n",
    "print(sse)"
   ]
  },
  {
   "cell_type": "markdown",
   "metadata": {},
   "source": [
    "### Propagación hacia atrás"
   ]
  },
  {
   "cell_type": "code",
   "execution_count": null,
   "metadata": {},
   "outputs": [],
   "source": [
    "# Derivada de la función de transferencia\n",
    "def dervidadaTransferencia(salida):\n",
    "    return salida * (1-salida)\n",
    "\n",
    "def propagacionAtras(redNeuronal,target):\n",
    "    for in reversed(range(len(redNeuronal))):\n",
    "        capa = redNeuronal[i]\n",
    "        errores = list()\n",
    "        if i! = len(network)-1:\n",
    "            for j in range(len(layer)):\n",
    "                error = 0\n",
    "                for neurona in redNeuronal[i+1]:\n",
    "                    error += (neurona['pesos'][j] * neurona['delta'])\n",
    "        else:\n",
    "            for j in range(len(capa)):\n",
    "                neurona = capa[j]\n",
    "                errores.append(target[j]-neuron['salida'])\n",
    "        for j in range(len(capa)):\n",
    "            neurona = capa[j]\n",
    "            neurona['delta'] = errores[j]*derivadaTransferencia(neurona['salida'])"
   ]
  },
  {
   "cell_type": "markdown",
   "metadata": {},
   "source": [
    "### Entrenamiento"
   ]
  },
  {
   "cell_type": "code",
   "execution_count": null,
   "metadata": {},
   "outputs": [],
   "source": [
    "def actualizar_pesos(redNeuronal, instancia, l_rate):\n",
    "    for i in range (len(redNeuronal)):\n",
    "        entradas = instancia[:-1]\n",
    "        if i!=0:\n",
    "            entrada = [redNeuronal]"
   ]
  }
 ],
 "metadata": {
  "kernelspec": {
   "display_name": "Python 3",
   "language": "python",
   "name": "python3"
  },
  "language_info": {
   "codemirror_mode": {
    "name": "ipython",
    "version": 3
   },
   "file_extension": ".py",
   "mimetype": "text/x-python",
   "name": "python",
   "nbconvert_exporter": "python",
   "pygments_lexer": "ipython3",
   "version": "3.7.1"
  }
 },
 "nbformat": 4,
 "nbformat_minor": 2
}
