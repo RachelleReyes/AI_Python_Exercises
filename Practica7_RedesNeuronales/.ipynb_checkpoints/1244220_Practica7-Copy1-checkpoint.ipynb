{
 "cells": [
  {
   "cell_type": "code",
   "execution_count": 3,
   "metadata": {},
   "outputs": [],
   "source": [
    "import numpy as np"
   ]
  },
  {
   "cell_type": "markdown",
   "metadata": {},
   "source": [
    "# Redes Neuronales"
   ]
  },
  {
   "cell_type": "code",
   "execution_count": 4,
   "metadata": {},
   "outputs": [
    {
     "name": "stdout",
     "output_type": "stream",
     "text": [
      "4\n"
     ]
    }
   ],
   "source": [
    "inputs = np.array([\n",
    "[4.7,6.0],\n",
    "[6.1,3.9],\n",
    "[2.9,4.2],\n",
    "[7.0,5.5]])\n",
    "\n",
    "targets = np.array([\n",
    "[3.52,4.02],\n",
    "[5.43,6.23],\n",
    "[4.95,5.76],\n",
    "[4.70,4.28]])\n",
    "\n",
    "#Instancias \n",
    "instancias,atributos = inputs.shape\n",
    "q = instancias\n",
    "print(q)"
   ]
  },
  {
   "cell_type": "markdown",
   "metadata": {},
   "source": [
    "### Propagacion hacia adelante"
   ]
  },
  {
   "cell_type": "code",
   "execution_count": 9,
   "metadata": {},
   "outputs": [
    {
     "name": "stdout",
     "output_type": "stream",
     "text": [
      "[[4.7 6.1 2.9 7. ]\n",
      " [6.  3.9 4.2 5.5]]\n",
      "[[4.7 6.1 2.9 7. ]\n",
      " [6.  3.9 4.2 5.5]\n",
      " [1.  1.  1.  1. ]]\n",
      "[[0.26424894 0.43027211 0.63830687]\n",
      " [0.88348281 0.29301517 0.06800988]]\n",
      "[[4.46190951 3.9282866  3.21177163 4.85454601]\n",
      " [5.97847013 6.6000142  3.86077376 7.86397301]]\n",
      "[[0.99973368 0.9992259  0.99675947 0.99987855]\n",
      " [0.99998717 0.9999963  0.99911404 0.9999997 ]\n",
      " [1.         1.         1.         1.        ]]\n"
     ]
    }
   ],
   "source": [
    "a0 = inputs.T\n",
    "print(a0)\n",
    "\n",
    "#Entradas Aumentadas\n",
    "a0_ = np.concatenate([a0,np.ones((1,q))],axis=0)\n",
    "print(a0_)\n",
    "\n",
    "w1_ = np.random.rand(2,3)\n",
    "print(w1_)\n",
    "\n",
    "z1 = np.dot(w1_,a0_)\n",
    "print(z1)\n",
    "\n",
    "a1 = np.tanh(z1) \n",
    "a1_ = np.concatenate([a1,np.ones((1,q))],axis=0) \n",
    "print(a1_)"
   ]
  },
  {
   "cell_type": "code",
   "execution_count": 10,
   "metadata": {},
   "outputs": [
    {
     "ename": "ValueError",
     "evalue": "all the input array dimensions except for the concatenation axis must match exactly",
     "output_type": "error",
     "traceback": [
      "\u001b[1;31m---------------------------------------------------------------------------\u001b[0m",
      "\u001b[1;31mValueError\u001b[0m                                Traceback (most recent call last)",
      "\u001b[1;32m<ipython-input-10-e17e81ad948f>\u001b[0m in \u001b[0;36m<module>\u001b[1;34m\u001b[0m\n\u001b[0;32m     10\u001b[0m \u001b[0mz2\u001b[0m \u001b[1;33m=\u001b[0m \u001b[0mnp\u001b[0m\u001b[1;33m.\u001b[0m\u001b[0mdot\u001b[0m\u001b[1;33m(\u001b[0m\u001b[0ma1_\u001b[0m\u001b[1;33m,\u001b[0m\u001b[0mw2_\u001b[0m\u001b[1;33m)\u001b[0m                               \u001b[1;31m# Multiplicaaaaacion 4x2.3.4\u001b[0m\u001b[1;33m\u001b[0m\u001b[1;33m\u001b[0m\u001b[0m\n\u001b[0;32m     11\u001b[0m \u001b[0ma2\u001b[0m \u001b[1;33m=\u001b[0m \u001b[0mnp\u001b[0m\u001b[1;33m.\u001b[0m\u001b[0mtanh\u001b[0m\u001b[1;33m(\u001b[0m\u001b[0mz2\u001b[0m\u001b[1;33m)\u001b[0m\u001b[1;33m\u001b[0m\u001b[1;33m\u001b[0m\u001b[0m\n\u001b[1;32m---> 12\u001b[1;33m \u001b[0ma2_\u001b[0m \u001b[1;33m=\u001b[0m \u001b[0mnp\u001b[0m\u001b[1;33m.\u001b[0m\u001b[0mconcatenate\u001b[0m\u001b[1;33m(\u001b[0m\u001b[1;33m[\u001b[0m\u001b[0ma2\u001b[0m\u001b[1;33m,\u001b[0m\u001b[0mnp\u001b[0m\u001b[1;33m.\u001b[0m\u001b[0mones\u001b[0m\u001b[1;33m(\u001b[0m\u001b[1;33m(\u001b[0m\u001b[1;36m1\u001b[0m\u001b[1;33m,\u001b[0m\u001b[0mq\u001b[0m\u001b[1;33m)\u001b[0m\u001b[1;33m)\u001b[0m\u001b[1;33m]\u001b[0m\u001b[1;33m,\u001b[0m\u001b[0maxis\u001b[0m\u001b[1;33m=\u001b[0m\u001b[1;36m0\u001b[0m\u001b[1;33m)\u001b[0m\u001b[1;33m\u001b[0m\u001b[1;33m\u001b[0m\u001b[0m\n\u001b[0m\u001b[0;32m     13\u001b[0m \u001b[1;33m\u001b[0m\u001b[0m\n\u001b[0;32m     14\u001b[0m \u001b[0mw3_\u001b[0m \u001b[1;33m=\u001b[0m \u001b[0mnp\u001b[0m\u001b[1;33m.\u001b[0m\u001b[0mrandom\u001b[0m\u001b[1;33m.\u001b[0m\u001b[0mrand\u001b[0m\u001b[1;33m(\u001b[0m\u001b[1;36m3\u001b[0m\u001b[1;33m,\u001b[0m\u001b[1;36m3\u001b[0m\u001b[1;33m)\u001b[0m\u001b[1;33m\u001b[0m\u001b[1;33m\u001b[0m\u001b[0m\n",
      "\u001b[1;31mValueError\u001b[0m: all the input array dimensions except for the concatenation axis must match exactly"
     ]
    }
   ],
   "source": [
    "a0 = inputs.T                                      # Entradas 4x2, Traspuesta 2x4\n",
    "a0_ = np.concatenate([a0,np.ones((1,q))],axis=0)   # Entrada Aumentada 3x4    \n",
    "\n",
    "w1_ = np.random.rand(2,3)                          # Valores de pesos  2x3\n",
    "z1 = np.dot(w1_,a0_)                               # Resultado 2x4 de la multiplicacion 2x3.3x4\n",
    "a1 = np.tanh(z1)                                    \n",
    "a1_ = np.concatenate([a1,np.ones((1,q))],axis=0)   # Entrada Aumentada 3x4:  2x4 + 1x4\n",
    "\n",
    "w2_ = np.random.rand(4,2)                          # Valores de pesos 4x2\n",
    "z2 = np.dot(a1_,w2_)                               # Resultado 3x2 de la multiplicacion 3x4.4x2\n",
    "a2 = np.tanh(z2)                                   \n",
    "a2_ = np.concatenate([a2,np.ones((1,q))],axis=0)   # Entrada aumentada 4x2\n",
    "\n",
    "w3_ = np.random.rand(2,2)                          # Valores de pesos 2x2\n",
    "z3 = np.dot(a2_,w3_)                               # Resultado 4x2 de la multiplicacion 4x2.2x2\n",
    "a3 = np.tanh(z3)\n",
    "a3_ = np.concatenate([a3,np.ones((1,q))],axis=0)\n",
    "\n",
    "error = np.substract(targets.T,a3)\n",
    "sse = np.sum(np.power(error,2))"
   ]
  },
  {
   "cell_type": "markdown",
   "metadata": {},
   "source": [
    "### Propagación hacia atrás"
   ]
  },
  {
   "cell_type": "code",
   "execution_count": null,
   "metadata": {},
   "outputs": [],
   "source": []
  }
 ],
 "metadata": {
  "kernelspec": {
   "display_name": "Python 3",
   "language": "python",
   "name": "python3"
  },
  "language_info": {
   "codemirror_mode": {
    "name": "ipython",
    "version": 3
   },
   "file_extension": ".py",
   "mimetype": "text/x-python",
   "name": "python",
   "nbconvert_exporter": "python",
   "pygments_lexer": "ipython3",
   "version": "3.7.1"
  }
 },
 "nbformat": 4,
 "nbformat_minor": 2
}
