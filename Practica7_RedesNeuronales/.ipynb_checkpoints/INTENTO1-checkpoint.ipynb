{
 "cells": [
  {
   "cell_type": "code",
   "execution_count": 6,
   "metadata": {},
   "outputs": [],
   "source": [
    "import numpy as np"
   ]
  },
  {
   "cell_type": "markdown",
   "metadata": {},
   "source": [
    "# Redes Neuronales"
   ]
  },
  {
   "cell_type": "code",
   "execution_count": 9,
   "metadata": {},
   "outputs": [
    {
     "name": "stdout",
     "output_type": "stream",
     "text": [
      "Instancias: 4 Atributos: 2\n"
     ]
    }
   ],
   "source": [
    "inputs = np.array([\n",
    "[4.7,6.0],\n",
    "[6.1,3.9],\n",
    "[2.9,4.2],\n",
    "[7.0,5.5]])\n",
    "\n",
    "targets = np.array([\n",
    "[3.52,4.02],\n",
    "[5.43,6.23],\n",
    "[4.95,5.76],\n",
    "[4.70,4.28]])\n",
    "\n",
    "#Obtener dimensiones de la entrada\n",
    "instancias,atributos = inputs.shape\n",
    "q = instancias\n",
    "print(\"Instancias: \" + str(instancias),\"Atributos: \"+ str(atributos))"
   ]
  },
  {
   "cell_type": "markdown",
   "metadata": {},
   "source": [
    "### Propagacion hacia adelante"
   ]
  },
  {
   "cell_type": "code",
   "execution_count": 35,
   "metadata": {},
   "outputs": [
    {
     "name": "stdout",
     "output_type": "stream",
     "text": [
      "# 0\n",
      "\n",
      "Entrada: \n",
      "[[0.4 0.9]\n",
      " [0.2 0.5]\n",
      " [0.6 0.6]]\n",
      "Salida actual: \n",
      "[[0.92]\n",
      " [0.86]\n",
      " [0.89]]\n"
     ]
    },
    {
     "ename": "AttributeError",
     "evalue": "'Red_Neuronal' object has no attribute 'T'",
     "output_type": "error",
     "traceback": [
      "\u001b[1;31m---------------------------------------------------------------------------\u001b[0m",
      "\u001b[1;31mAttributeError\u001b[0m                            Traceback (most recent call last)",
      "\u001b[1;32m<ipython-input-35-61086212db76>\u001b[0m in \u001b[0;36m<module>\u001b[1;34m\u001b[0m\n\u001b[0;32m     68\u001b[0m     \u001b[0mprint\u001b[0m \u001b[1;33m(\u001b[0m\u001b[1;34m\"Salida actual: \\n\"\u001b[0m \u001b[1;33m+\u001b[0m \u001b[0mstr\u001b[0m\u001b[1;33m(\u001b[0m\u001b[0my\u001b[0m\u001b[1;33m)\u001b[0m\u001b[1;33m)\u001b[0m\u001b[1;33m\u001b[0m\u001b[1;33m\u001b[0m\u001b[0m\n\u001b[0;32m     69\u001b[0m     \u001b[1;31m#a = RN.propagacionAdelante(inputs,pesos)\u001b[0m\u001b[1;33m\u001b[0m\u001b[1;33m\u001b[0m\u001b[1;33m\u001b[0m\u001b[0m\n\u001b[1;32m---> 70\u001b[1;33m     \u001b[0ma\u001b[0m \u001b[1;33m=\u001b[0m \u001b[0mRN\u001b[0m\u001b[1;33m.\u001b[0m\u001b[0mpropagacionAdelante\u001b[0m\u001b[1;33m(\u001b[0m\u001b[0mpesos\u001b[0m\u001b[1;33m)\u001b[0m\u001b[1;33m\u001b[0m\u001b[1;33m\u001b[0m\u001b[0m\n\u001b[0m\u001b[0;32m     71\u001b[0m     \u001b[0mprint\u001b[0m \u001b[1;33m(\u001b[0m\u001b[1;34m\"Salida predecida: \\n\"\u001b[0m \u001b[1;33m+\u001b[0m \u001b[0mstr\u001b[0m\u001b[1;33m(\u001b[0m\u001b[0ma\u001b[0m\u001b[1;33m)\u001b[0m\u001b[1;33m)\u001b[0m\u001b[1;33m\u001b[0m\u001b[1;33m\u001b[0m\u001b[0m\n\u001b[0;32m     72\u001b[0m     \u001b[0merror\u001b[0m \u001b[1;33m=\u001b[0m \u001b[0mnp\u001b[0m\u001b[1;33m.\u001b[0m\u001b[0msubtract\u001b[0m\u001b[1;33m(\u001b[0m\u001b[0mtargets\u001b[0m\u001b[1;33m.\u001b[0m\u001b[0mT\u001b[0m\u001b[1;33m,\u001b[0m\u001b[0ma\u001b[0m\u001b[1;33m)\u001b[0m\u001b[1;33m\u001b[0m\u001b[1;33m\u001b[0m\u001b[0m\n",
      "\u001b[1;32m<ipython-input-35-61086212db76>\u001b[0m in \u001b[0;36mpropagacionAdelante\u001b[1;34m(inputs, pesos)\u001b[0m\n\u001b[0;32m     14\u001b[0m \u001b[1;33m\u001b[0m\u001b[0m\n\u001b[0;32m     15\u001b[0m     \u001b[1;32mdef\u001b[0m \u001b[0mpropagacionAdelante\u001b[0m\u001b[1;33m(\u001b[0m\u001b[0minputs\u001b[0m\u001b[1;33m,\u001b[0m\u001b[0mpesos\u001b[0m\u001b[1;33m)\u001b[0m\u001b[1;33m:\u001b[0m\u001b[1;33m\u001b[0m\u001b[1;33m\u001b[0m\u001b[0m\n\u001b[1;32m---> 16\u001b[1;33m         \u001b[0mself\u001b[0m\u001b[1;33m.\u001b[0m\u001b[0ma0\u001b[0m \u001b[1;33m=\u001b[0m \u001b[0minputs\u001b[0m\u001b[1;33m.\u001b[0m\u001b[0mT\u001b[0m\u001b[1;33m\u001b[0m\u001b[1;33m\u001b[0m\u001b[0m\n\u001b[0m\u001b[0;32m     17\u001b[0m         \u001b[0mself\u001b[0m\u001b[1;33m.\u001b[0m\u001b[0ma0_\u001b[0m \u001b[1;33m=\u001b[0m \u001b[0mnp\u001b[0m\u001b[1;33m.\u001b[0m\u001b[0mconcatenate\u001b[0m\u001b[1;33m(\u001b[0m\u001b[1;33m[\u001b[0m\u001b[0mself\u001b[0m\u001b[1;33m.\u001b[0m\u001b[0ma0\u001b[0m\u001b[1;33m,\u001b[0m\u001b[0mnp\u001b[0m\u001b[1;33m.\u001b[0m\u001b[0mones\u001b[0m\u001b[1;33m(\u001b[0m\u001b[1;33m(\u001b[0m\u001b[1;36m1\u001b[0m\u001b[1;33m,\u001b[0m\u001b[0mq\u001b[0m\u001b[1;33m)\u001b[0m\u001b[1;33m)\u001b[0m\u001b[1;33m]\u001b[0m\u001b[1;33m,\u001b[0m\u001b[0maxis\u001b[0m\u001b[1;33m=\u001b[0m\u001b[1;36m0\u001b[0m\u001b[1;33m)\u001b[0m\u001b[1;33m\u001b[0m\u001b[1;33m\u001b[0m\u001b[0m\n\u001b[0;32m     18\u001b[0m \u001b[1;33m\u001b[0m\u001b[0m\n",
      "\u001b[1;31mAttributeError\u001b[0m: 'Red_Neuronal' object has no attribute 'T'"
     ]
    }
   ],
   "source": [
    "class Red_Neuronal(object):\n",
    "    def __init__(self):\n",
    " \n",
    "        # Funcion de transferencia\n",
    "        def funcionTransferencia(activacion):\n",
    "            return 1/(1+np.exp(-activacion))\n",
    "\n",
    "    # Funcion que realiza la activación de la neruona con los pesos y entradas\n",
    "    def activar(pesos, entradas):\n",
    "        return np.dot(pesos,entradas)\n",
    "\n",
    "    def sse(target, predicted):\n",
    "        return np.sum(np.power(target-predicted,2))\n",
    "\n",
    "    def propagacionAdelante(inputs,pesos):\n",
    "        self.a0 = inputs.T\n",
    "        self.a0_ = np.concatenate([self.a0,np.ones((1,q))],axis=0)\n",
    "\n",
    "        self.z1 =  activar(self.pesos[0],self.a0_)\n",
    "        self.a1 =  funcionTransferencia(self.z1)\n",
    "        self.a1_ = np.concatenate([self.a1,np.ones((1,q))],axis=0)\n",
    "\n",
    "        self.z2 =  activar(self.pesos[1],self.a1_)\n",
    "        self.a2 =  funcionTransferencia(self.z2)\n",
    "        self.a2_ = np.concatenate([self.a2,np.ones((1,q))],axis=0)\n",
    "\n",
    "        self.z3 = activar(self.pesos[2],self.a2_)\n",
    "        a3 = funcionTransferencia(self.z3)\n",
    "\n",
    "        return a3\n",
    "\n",
    "    # Derivada de la función de transferencia\n",
    "    def dervidadaTransferencia(salida):\n",
    "        return salida * (1-salida)\n",
    "\n",
    "    def propagacionAtras():\n",
    "        self.deltaK = np.dot(-2*np.exp(1),dervidadaTransferencia(self.z3))\n",
    "        self.deltaJ = np.dot(np.dot(self.w3_[:,0:3].T,self.deltaK),dervidadaTransferencia(self.z2).T)\n",
    "        self.deltaI = np.dot(np.dot(self.w2_[:,0:2].T,self.deltaJ).T,dervidadaTransferencia(self.z1))\n",
    "\n",
    "    def actualizarPesos():\n",
    "        w3New = np.dot(deltaK,a3)\n",
    "        w2New = np.dot(deltaJ,a2)\n",
    "        w1New = np.dot(deltaI,a1)\n",
    "        pesosNew = [w1New,w2New,w3New]\n",
    "        return pesosNew\n",
    "\n",
    "    def fit(self, entradas, targets, pesos):\n",
    "        salida = self.propagacionAdelante(inputs,pesos)\n",
    "        self.backward()\n",
    "\n",
    "    def predecir(self):\n",
    "        print (\"Valores prdecidos: \");\n",
    "        print (\"Entrada: \\n\" + str(inputs));\n",
    "        print (\"Salida: \\n\" + str(self.propagacionAdelante(inputs,pesos)));\n",
    "\n",
    "RN = Red_Neuronal()\n",
    "\n",
    "# Valores de los pesos\n",
    "w1_ = np.random.rand(2,3)\n",
    "w2_ = np.random.rand(3,3) \n",
    "w3_ = np.random.rand(2,4)\n",
    "pesos = [w1_,w2_,w3_]\n",
    "\n",
    "for i in range(1000): # trains the NN 1,000 times\n",
    "    print (\"# \" + str(i) + \"\\n\")\n",
    "    print (\"Entrada: \\n\" + str(X))\n",
    "    print (\"Salida actual: \\n\" + str(y))\n",
    "    #a = RN.propagacionAdelante(inputs,pesos)\n",
    "    a = RN.propagacionAdelante(pesos)\n",
    "    print (\"Salida predecida: \\n\" + str(a))\n",
    "    error = np.subtract(targets.T,a)\n",
    "    sse = np.sum(np.power(error,2))\n",
    "    print (\"Error: \\n\" + str(sse(targets,a)))\n",
    "    print (\"\\n\")\n",
    "    RN.fit(inputs, targets,pesos)\n",
    "\n",
    "RN.predecir()"
   ]
  },
  {
   "cell_type": "code",
   "execution_count": 41,
   "metadata": {},
   "outputs": [],
   "source": [
    "def funcionTransferencia(activacion):\n",
    "    return 1/(1+np.exp(-activacion))\n",
    "\n",
    "# Funcion que realiza la activación de la neruona con los pesos y entradas\n",
    "def activar(pesos, entradas):\n",
    "    return np.dot(pesos,entradas)\n",
    "\n",
    "def sse(target, predicted):\n",
    "    return np.sum(np.power(target-predicted,2))\n",
    "\n",
    "w1_ = np.random.rand(2,3)\n",
    "w2_ = np.random.rand(3,3) \n",
    "w3_ = np.random.rand(2,4)\n",
    "pesos = [w1_,w2_,w3_]\n",
    "\n",
    "a0 = inputs.T\n",
    "a0_ = np.concatenate([a0,np.ones((1,q))],axis=0)\n",
    "\n",
    "z1 =  activar(pesos[0],a0_)\n",
    "a1 =  funcionTransferencia(z1)\n",
    "a1_ = np.concatenate([a1,np.ones((1,q))],axis=0)\n",
    "\n",
    "z2 =  activar(pesos[1],a1_)\n",
    "a2 =  funcionTransferencia(z2)\n",
    "a2_ = np.concatenate([a2,np.ones((1,q))],axis=0)\n",
    "\n",
    "z3 = activar(pesos[2],a2_)\n",
    "a3 = funcionTransferencia(z3)\n"
   ]
  },
  {
   "cell_type": "code",
   "execution_count": 58,
   "metadata": {},
   "outputs": [
    {
     "data": {
      "text/plain": [
       "'\\ndeltaK = np.dot(-2*np.exp(1),dervidadaTransferencia(z3))\\ndeltaJ = np.dot(np.dot(w3_[:,0:3].T,deltaK),dervidadaTransferencia(z2).T)\\ndeltaI = np.dot(np.dot(w2_[:,0:2].T,deltaJ).T,dervidadaTransferencia(z1))\\n\\nw3New = np.dot(deltaK,a3)\\nw2New = np.dot(deltaJ,a2)\\nw1New = np.dot(deltaI,a1)\\npesosNew = [w1New,w2New,w3New]\\nreturn pesosNew\\n\\ndef predecir(self):\\n    print (\"Valores prdecidos: \");\\n    print (\"Entrada: \\n\" + str(inputs));\\n    print (\"Salida: \\n\" + str(propagacionAdelante(inputs,pesos)));\\n\\n#RN = Red_Neuronal()\\n\\n# Valores de los pesos\\n\\nprint (\"# \" + str(i) + \"\\n\")\\nprint (\"Entrada: \\n\" + str(X))\\nprint (\"Salida actual: \\n\" + str(y))\\nprint (\"Salida predecida: \\n\" + str(a))\\nerror = np.subtract(targets,a3)\\nsse = np.sum(np.power(error,2))\\n#print (\"Error: \\n\" + str(sse(targets,a)))\\nprint (\"\\n\")\\n\\nRN.predecir()\\n\\n'"
      ]
     },
     "execution_count": 58,
     "metadata": {},
     "output_type": "execute_result"
    }
   ],
   "source": [
    "# Derivada de la función de transferencia\n",
    "def dervidadaTransferencia(salida):\n",
    "    return salida * (1-salida)\n",
    "\n",
    "\n",
    "'''\n",
    "deltaK = np.dot(-2*np.exp(1),dervidadaTransferencia(z3))\n",
    "deltaJ = np.dot(np.dot(w3_[:,0:3].T,deltaK),dervidadaTransferencia(z2).T)\n",
    "deltaI = np.dot(np.dot(w2_[:,0:2].T,deltaJ).T,dervidadaTransferencia(z1))\n",
    "\n",
    "w3New = np.dot(deltaK,a3)\n",
    "w2New = np.dot(deltaJ,a2)\n",
    "w1New = np.dot(deltaI,a1)\n",
    "pesosNew = [w1New,w2New,w3New]\n",
    "return pesosNew\n",
    "\n",
    "def predecir(self):\n",
    "    print (\"Valores prdecidos: \");\n",
    "    print (\"Entrada: \\n\" + str(inputs));\n",
    "    print (\"Salida: \\n\" + str(propagacionAdelante(inputs,pesos)));\n",
    "\n",
    "#RN = Red_Neuronal()\n",
    "\n",
    "# Valores de los pesos\n",
    "\n",
    "print (\"# \" + str(i) + \"\\n\")\n",
    "print (\"Entrada: \\n\" + str(X))\n",
    "print (\"Salida actual: \\n\" + str(y))\n",
    "print (\"Salida predecida: \\n\" + str(a))\n",
    "error = np.subtract(targets,a3)\n",
    "sse = np.sum(np.power(error,2))\n",
    "#print (\"Error: \\n\" + str(sse(targets,a)))\n",
    "print (\"\\n\")\n",
    "\n",
    "RN.predecir()\n",
    "\n",
    "'''"
   ]
  },
  {
   "cell_type": "code",
   "execution_count": null,
   "metadata": {},
   "outputs": [],
   "source": []
  },
  {
   "cell_type": "code",
   "execution_count": null,
   "metadata": {},
   "outputs": [],
   "source": []
  }
 ],
 "metadata": {
  "kernelspec": {
   "display_name": "Python 3",
   "language": "python",
   "name": "python3"
  },
  "language_info": {
   "codemirror_mode": {
    "name": "ipython",
    "version": 3
   },
   "file_extension": ".py",
   "mimetype": "text/x-python",
   "name": "python",
   "nbconvert_exporter": "python",
   "pygments_lexer": "ipython3",
   "version": "3.7.1"
  }
 },
 "nbformat": 4,
 "nbformat_minor": 2
}
